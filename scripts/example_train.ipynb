{
 "cells": [
  {
   "cell_type": "code",
   "execution_count": null,
   "metadata": {},
   "outputs": [],
   "source": [
    "import argparse\n",
    "import label_data, encode_datasets, train_downstream_model\n",
    "import torch\n",
    "import pickle\n",
    "import numpy as np\n",
    "import os\n",
    "from os.path import join, exists\n",
    "from datetime import datetime\n",
    "import sys\n",
    "sys.path.append('../keyclass/')\n",
    "import utils\n",
    "import models\n",
    "import create_lfs\n",
    "import train_classifier\n",
    "\n",
    "parser_cmd = argparse.ArgumentParser()\n",
    "parser_cmd.add_argument('--config', default='../config_files/config_imdb.yml', help='Configuration file')\n",
    "parser_cmd.add_argument('--random_seed', default=0, type=int, help=\"Random Seed\")\n",
    "args_cmd = parser_cmd.parse_args(args='--config=../config_files/config_imdb.yml --random_seed=0'.split(' '))"
   ]
  },
  {
   "cell_type": "markdown",
   "metadata": {},
   "source": [
    "## Training"
   ]
  },
  {
   "cell_type": "markdown",
   "metadata": {},
   "source": [
    "### Encoding Dataset"
   ]
  },
  {
   "cell_type": "code",
   "execution_count": null,
   "metadata": {},
   "outputs": [],
   "source": [
    "# print(\"Encoding Dataset\")\n",
    "# encode_datasets.run(args)"
   ]
  },
  {
   "cell_type": "code",
   "execution_count": null,
   "metadata": {},
   "outputs": [],
   "source": [
    "args = utils.Parser(config_file_path=args_cmd.config).parse()\n",
    "\n",
    "if args['use_custom_encoder']:\n",
    "    model = models.CustomEncoder(pretrained_model_name_or_path=args['base_encoder'], \n",
    "        device='cuda' if torch.cuda.is_available() else 'cpu')\n",
    "else:\n",
    "    model = models.Encoder(model_name=args['base_encoder'], \n",
    "        device='cuda' if torch.cuda.is_available() else 'cpu')\n",
    "\n",
    "for split in ['train', 'test']:\n",
    "    sentences = utils.fetch_data(dataset=args['dataset'], split=split, path=args['data_path'])\n",
    "    embeddings = model.encode(sentences=sentences, batch_size=args['end_model_batch_size'], \n",
    "                                show_progress_bar=args['show_progress_bar'], \n",
    "                                normalize_embeddings=args['normalize_embeddings'])\n",
    "    with open(join(args['data_path'], args['dataset'], f'{split}_embeddings.pkl'), 'wb') as f:\n",
    "        pickle.dump(embeddings, f)\n"
   ]
  },
  {
   "cell_type": "markdown",
   "metadata": {},
   "source": [
    "### Labeling Data"
   ]
  },
  {
   "cell_type": "code",
   "execution_count": null,
   "metadata": {},
   "outputs": [],
   "source": [
    "# print(\"Labeling Data\")\n",
    "# label_data.run(args)"
   ]
  },
  {
   "cell_type": "code",
   "execution_count": null,
   "metadata": {},
   "outputs": [],
   "source": [
    "args = utils.Parser(config_file_path=args_cmd.config).parse()\n",
    "print(args)\n",
    "\n",
    "# Load training data\n",
    "train_text = utils.fetch_data(dataset=args['dataset'], path=args['data_path'], split='train')\n",
    "\n",
    "training_labels_present = False\n",
    "if exists(join(args['data_path'], args['dataset'], 'train_labels.txt')):\n",
    "    with open(join(args['data_path'], args['dataset'], 'train_labels.txt'), 'r') as f:\n",
    "        y_train = f.readlines()\n",
    "    y_train = np.array([int(i.replace('\\n','')) for i in y_train])\n",
    "    training_labels_present = True\n",
    "else:\n",
    "    y_train = None\n",
    "    training_labels_present = False\n",
    "    print('No training labels found!')\n",
    "\n",
    "with open(join(args['data_path'], args['dataset'], 'train_embeddings.pkl'), 'rb') as f:\n",
    "    X_train = pickle.load(f)\n",
    "\n",
    "# Print dataset statistics\n",
    "print(f\"Getting labels for the {args['dataset']} data...\")\n",
    "print(f'Size of the data: {len(train_text)}')\n",
    "if training_labels_present:\n",
    "    print('Class distribution', np.unique(y_train, return_counts=True))\n",
    "\n",
    "# Load label names/descriptions\n",
    "label_names = []\n",
    "for a in args:\n",
    "    if 'target' in a: label_names.append(args[a])\n",
    "\n",
    "# Creating labeling functions\n",
    "labeler = create_lfs.CreateLabellingFunctions(base_encoder=args['base_encoder'], \n",
    "                                            device=torch.device(args['device']),\n",
    "                                            label_model=args['label_model'])\n",
    "proba_preds = labeler.get_labels(text_corpus=train_text, label_names=label_names, min_df=args['min_df'], \n",
    "                                ngram_range=args['ngram_range'], topk=args['topk'], y_train=y_train, \n",
    "                                label_model_lr=args['label_model_lr'], label_model_n_epochs=args['label_model_n_epochs'], \n",
    "                                verbose=True, n_classes=args['n_classes'])\n",
    "\n",
    "y_train_pred = np.argmax(proba_preds, axis=1)\n",
    "\n",
    "# Save the predictions\n",
    "if not os.path.exists(args['preds_path']): os.makedirs(args['preds_path'])\n",
    "with open(join(args['preds_path'], f\"{args['label_model']}_proba_preds.pkl\"), 'wb') as f:\n",
    "    pickle.dump(proba_preds, f)\n",
    "\n",
    "# Print statistics\n",
    "print('Label Model Predictions: Unique value and counts', np.unique(y_train_pred, return_counts=True))\n",
    "if training_labels_present:\n",
    "    print('Label Model Training Accuracy', np.mean(y_train_pred==y_train))\n",
    "\n",
    "    # Log the metrics\n",
    "    training_metrics_with_gt = utils.compute_metrics(y_preds=y_train_pred, y_true=y_train, average=args['average'])\n",
    "    utils.log(metrics=training_metrics_with_gt, filename='label_model_with_ground_truth', \n",
    "        results_dir=args['results_path'], split='train')\n"
   ]
  },
  {
   "cell_type": "code",
   "execution_count": null,
   "metadata": {},
   "outputs": [],
   "source": [
    "# print(\"Training Model\")\n",
    "# results = train_downstream_model.train(args)\n",
    "# print(\"Model Results:\")\n",
    "# print(results)"
   ]
  },
  {
   "cell_type": "markdown",
   "metadata": {},
   "source": [
    "### Training Downstream Model"
   ]
  },
  {
   "cell_type": "code",
   "execution_count": null,
   "metadata": {},
   "outputs": [],
   "source": [
    "args = utils.Parser(config_file_path=args_cmd.config).parse()\n",
    "\n",
    "# Set random seeds\n",
    "random_seed = args_cmd.random_seed\n",
    "torch.manual_seed(random_seed)\n",
    "np.random.seed(random_seed)\n",
    "\n",
    "X_train_embed_masked, y_train_lm_masked, y_train_masked, \\\n",
    "\tX_test_embed, y_test, training_labels_present, \\\n",
    "\tsample_weights_masked, proba_preds_masked = train_downstream_model.load_data(args)\n",
    "\n",
    "# Train a downstream classifier\n",
    "\n",
    "if args['use_custom_encoder']:\n",
    "\tencoder = models.CustomEncoder(pretrained_model_name_or_path=args['base_encoder'], device=args['device'])\n",
    "else:\n",
    "\tencoder = models.Encoder(model_name=args['base_encoder'], device=args['device'])\n",
    "\n",
    "classifier = models.FeedForwardFlexible(encoder_model=encoder,\n",
    "\t\t\t\t\t\t\t\t\t\th_sizes=args['h_sizes'], \n",
    "\t\t\t\t\t\t\t\t\t\tactivation=eval(args['activation']),\n",
    "\t\t\t\t\t\t\t\t\t\tdevice=torch.device(args['device']))\n",
    "print('\\n===== Training the downstream classifier =====\\n')\n",
    "model = train_classifier.train(model=classifier, \n",
    "\t\t\t\t\t\t\tdevice=torch.device(args['device']),\n",
    "\t\t\t\t\t\t\tX_train=X_train_embed_masked, \n",
    "\t\t\t\t\t\t\ty_train=y_train_lm_masked,\n",
    "\t\t\t\t\t\t\tsample_weights=sample_weights_masked if args['use_noise_aware_loss'] else None, \n",
    "\t\t\t\t\t\t\tepochs=args['end_model_epochs'], \n",
    "\t\t\t\t\t\t\tbatch_size=args['end_model_batch_size'], \n",
    "\t\t\t\t\t\t\tcriterion=eval(args['criterion']), \n",
    "\t\t\t\t\t\t\traw_text=False, \n",
    "\t\t\t\t\t\t\tlr=eval(args['end_model_lr']), \n",
    "\t\t\t\t\t\t\tweight_decay=eval(args['end_model_weight_decay']),\n",
    "\t\t\t\t\t\t\tpatience=args['end_model_patience'])\n",
    "\n",
    "\n",
    "end_model_preds_train = model.predict_proba(torch.from_numpy(X_train_embed_masked), batch_size=512, raw_text=False)\n",
    "end_model_preds_test = model.predict_proba(torch.from_numpy(X_test_embed), batch_size=512, raw_text=False)\n",
    "\n",
    "\n"
   ]
  },
  {
   "cell_type": "markdown",
   "metadata": {},
   "source": [
    "### Self-training Model"
   ]
  },
  {
   "cell_type": "code",
   "execution_count": null,
   "metadata": {},
   "outputs": [],
   "source": [
    "# Fetching the raw text data for self-training\n",
    "X_train_text = utils.fetch_data(dataset=args['dataset'], path=args['data_path'], split='train')\n",
    "X_test_text = utils.fetch_data(dataset=args['dataset'], path=args['data_path'], split='test')\n",
    "\n",
    "model = train_classifier.self_train(model=model, \n",
    "\t\t\t\t\t\t\t\t\tX_train=X_train_text, \n",
    "\t\t\t\t\t\t\t\t\tX_val=X_test_text, \n",
    "\t\t\t\t\t\t\t\t\ty_val=y_test, \n",
    "\t\t\t\t\t\t\t\t\tdevice=torch.device(args['device']), \n",
    "\t\t\t\t\t\t\t\t\tlr=eval(args['self_train_lr']), \n",
    "\t\t\t\t\t\t\t\t\tweight_decay=eval(args['self_train_weight_decay']),\n",
    "\t\t\t\t\t\t\t\t\tpatience=args['self_train_patience'], \n",
    "\t\t\t\t\t\t\t\t\tbatch_size=args['self_train_batch_size'], \n",
    "\t\t\t\t\t\t\t\t\tq_update_interval=args['q_update_interval'],\n",
    "\t\t\t\t\t\t\t\t\tself_train_thresh=eval(args['self_train_thresh']), \n",
    "\t\t\t\t\t\t\t\t\tprint_eval=True)\n",
    "\n",
    "\n",
    "end_model_preds_test = model.predict_proba(X_test_text, batch_size=args['self_train_batch_size'], raw_text=True)\n",
    "\n",
    "\n",
    "# Print statistics\n",
    "testing_metrics = utils.compute_metrics_bootstrap(y_preds=np.argmax(end_model_preds_test, axis=1),\n",
    "\t\t\t\t\t\t\t\t\t\t\t\t\ty_true=y_test, \n",
    "\t\t\t\t\t\t\t\t\t\t\t\t\taverage=args['average'], \n",
    "\t\t\t\t\t\t\t\t\t\t\t\t\tn_bootstrap=args['n_bootstrap'], \n",
    "\t\t\t\t\t\t\t\t\t\t\t\t\tn_jobs=args['n_jobs'])\n",
    "print(testing_metrics)"
   ]
  },
  {
   "cell_type": "markdown",
   "metadata": {},
   "source": [
    "## Testing"
   ]
  },
  {
   "cell_type": "code",
   "execution_count": null,
   "metadata": {},
   "outputs": [],
   "source": [
    "results = train_downstream_model.test(args_cmd=args,\n",
    "                                      end_model_path='../models/imdb/end_model_26-Jul-2022-03_29_41.pth',\n",
    "                                      end_model_self_trained_path='../models/imdb/end_model_self_trained_26 Jul 2022 03:59:43.pth')\n"
   ]
  }
 ],
 "metadata": {
  "kernelspec": {
   "display_name": "Python 3.9.12 ('nlptcs')",
   "language": "python",
   "name": "python3"
  },
  "language_info": {
   "name": "python",
   "version": "3.9.12"
  },
  "orig_nbformat": 4,
  "vscode": {
   "interpreter": {
    "hash": "c6745e1d9ce35b2e6db8cdaa46cc6a9b355207857576565b1b558702a4a19ae4"
   }
  }
 },
 "nbformat": 4,
 "nbformat_minor": 2
}
